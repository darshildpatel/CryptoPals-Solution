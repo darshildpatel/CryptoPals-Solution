{
 "cells": [
  {
   "cell_type": "markdown",
   "metadata": {},
   "source": [
    "# Question 1 -- Convert hex to base64"
   ]
  },
  {
   "cell_type": "code",
   "execution_count": 1,
   "metadata": {},
   "outputs": [
    {
     "name": "stdout",
     "output_type": "stream",
     "text": [
      "SSdtIGtpbGxpbmcgeW91ciBicmFpbiBsaWtlIGEgcG9pc29ub3VzIG11c2hyb29t\n",
      "\n"
     ]
    }
   ],
   "source": [
    "import codecs\n",
    "\n",
    "def hex_to_b64(hexa):\n",
    "    b64 = codecs.encode(codecs.decode(hexa, 'hex'), 'base64').decode()\n",
    "    return b64\n",
    "\n",
    "hexa = \"49276d206b696c6c696e6720796f757220627261696e206c696b65206120706f69736f6e6f7573206d757368726f6f6d\"\n",
    "print(hex_to_b64(hexa))"
   ]
  },
  {
   "cell_type": "markdown",
   "metadata": {},
   "source": [
    "###### Explaination:\n",
    "###### This code makes use of the codecs library available in the python to decode hex and later convert it to base64  "
   ]
  },
  {
   "cell_type": "markdown",
   "metadata": {},
   "source": [
    "# Question 2 -- Fixed XOR"
   ]
  },
  {
   "cell_type": "code",
   "execution_count": 5,
   "metadata": {},
   "outputs": [
    {
     "data": {
      "text/plain": [
       "'746865206b696420646f6e277420706c6179'"
      ]
     },
     "execution_count": 5,
     "metadata": {},
     "output_type": "execute_result"
    }
   ],
   "source": [
    "def XOR(a,b):\n",
    "    lookup = {\"0\" : \"0000\", \"1\" : \"0001\", \"2\" : \"0010\", \"3\" : \"0011\", \"4\" : \"0100\", \"5\" : \"0101\", \"6\" : \"0110\", \"7\" : \"0111\", \"8\" : \"1000\", \"9\" : \"1001\", \"a\" : \"1010\", \"b\" : \"1011\", \"c\" : \"1100\", \"d\" : \"1101\", \"e\" : \"1110\", \"f\" : \"1111\"}\n",
    "    lookup2 = {\"10\":\"a\",\"11\":\"b\",\"12\":\"c\",\"13\":\"d\",\"14\":\"e\",\"15\":\"f\"}\n",
    "    a= lookup[a]\n",
    "    b= lookup[b]\n",
    "    c=\"\"   \n",
    "    for i in range(4):\n",
    "        c=c+str(int(a[i]) ^ int(b[i])) \n",
    "    if int(c,2)>=10:\n",
    "        return lookup2[str(int(c,2))]\n",
    "    else:\n",
    "        return (str(int(c,2)))   \n",
    "        \n",
    "def fixedXOR(x,y):\n",
    "    result = \"\"\n",
    "    for i in range(len(x)):\n",
    "        result = result + (XOR(x[i],y[i]))\n",
    "    return result \n",
    "       \n",
    "final = fixedXOR(\"1c0111001f010100061a024b53535009181c\",\"686974207468652062756c6c277320657965\")    \n",
    "final"
   ]
  },
  {
   "cell_type": "markdown",
   "metadata": {},
   "source": [
    "###### Explaination:\n",
    "###### In this question we make XOR of 2 hex strings. The fixedXOR function takes in two strings and calls XOR on individual character of the string. XOR function maintains 2 lookup tables to convert single int to 4 bit binary and another for converting integer to hex values. We iterate over 4 bits and perform individual XOR. Later we accumulate the result from XOR and print it. "
   ]
  },
  {
   "cell_type": "markdown",
   "metadata": {},
   "source": [
    "# Question 3 -- Single-byte XOR cipher"
   ]
  },
  {
   "cell_type": "code",
   "execution_count": 4,
   "metadata": {},
   "outputs": [
    {
     "name": "stdout",
     "output_type": "stream",
     "text": [
      "The key to decrypt message is 'X'\n",
      "The decrypted string is : Cooking MC's like a pound of bacon\n"
     ]
    }
   ],
   "source": [
    "import codecs\n",
    "cipher=\"1b37373331363f78151b7f2b783431333d78397828372d363c78373e783a393b3736\"\n",
    "freqs = {97: 0.0651738,98: 0.0124248,99: 0.0217339,100: 0.0349835,101: 0.1041442,102: 0.0197881,103: 0.0158610,\n",
    "        104: 0.0492888,105: 0.0558094,106: 0.0009033,107: 0.0050529,108: 0.0331490,109: 0.0202124,110: 0.0564513,\n",
    "        111: 0.0596302,112: 0.0137645,113: 0.0008606,114: 0.0497563,115: 0.0515760,116: 0.0729357,117: 0.0225134,\n",
    "        118: 0.0082903,119: 0.0171272,120: 0.0013692,121: 0.0145984,122: 0.0007836,32: 0.1918182}\n",
    "\n",
    "\n",
    "def xor_str(string1,string2):\n",
    "    st1=codecs.decode(string1,'hex')\n",
    "    st2=codecs.decode(string2,'hex')\n",
    "    x=(bytes(a^b for a,b in zip(st1,st2))).hex()\n",
    "    return x\n",
    "\n",
    "def Single_byte_Xor_cipher(cipher):\n",
    "    index=0\n",
    "    high=0\n",
    "    for i in range(0,256):\n",
    "        if (i<16):\n",
    "            xor_byte=('0'+hex(i)[2:])*(int)(len(cipher)/2)\n",
    "        else:\n",
    "            xor_byte=hex(i)[2:]*(int)(len(cipher)/2)\n",
    "        new=(codecs.decode(xor_str(cipher,xor_byte),\"hex\"))\n",
    "    \n",
    "        count=0.0\n",
    "        for j in range(len(new)):\n",
    "        \n",
    "            if new[j] in freqs:\n",
    "                count = count + freqs[new[j]]\n",
    "            if count>high:\n",
    "                high=count\n",
    "                index=i\n",
    "    return high,index\n",
    "     \n",
    "    \n",
    "def output(cipher,index):\n",
    "    print(\"The key to decrypt message is '{}'\".format((chr(index) ))) \n",
    "    print(\"The decrypted string is : \",end=\"\")\n",
    "    print((codecs.decode(xor_str(cipher,hex(index)[2:]*(int)(len(cipher)/2)),\"hex\")).decode()) \n",
    "    \n",
    "high, index = Single_byte_Xor_cipher(cipher)\n",
    "output(cipher,index)"
   ]
  },
  {
   "cell_type": "markdown",
   "metadata": {},
   "source": [
    "###### Explaination:\n",
    "###### In the above code the single_byte_xor_cipher is trying all the possible 256 ascii values in order to fetch the correct key to decrypt cipher. We add '0' to the ascii value under 16 to maintain length constraint. Then we pass both the guesses single character key and cipher to the xor_str function to get the xor. We decide upon the key based on the frequency table that states the frequency of a character in the english langauge. Based on the highest score obtained we print out the gussed single character key.  "
   ]
  },
  {
   "cell_type": "markdown",
   "metadata": {},
   "source": [
    "# Question 4 -- Detect single-character XOR"
   ]
  },
  {
   "cell_type": "code",
   "execution_count": 9,
   "metadata": {},
   "outputs": [
    {
     "name": "stdout",
     "output_type": "stream",
     "text": [
      "The key to decrypt message is '5'\n",
      "The decrypted string is : Now that the party is jumping\n",
      "\n"
     ]
    }
   ],
   "source": [
    "high = 0\n",
    "for line in open('input.txt'):\n",
    "    line = line.strip()\n",
    "    count,index = Single_byte_Xor_cipher(str(line))\n",
    "    if high < count:\n",
    "        high = count\n",
    "        index1 = index\n",
    "        line1 = line\n",
    "        \n",
    "        \n",
    "output(line1, index1)        "
   ]
  },
  {
   "cell_type": "markdown",
   "metadata": {},
   "source": [
    "###### Explaination:\n",
    "###### Here we make use of the function that we generated in the previous question. Instead of trying a single character on a string we try it on the a file that contains cipher of length 60. Based on the english frequency in previous question we get the above output."
   ]
  },
  {
   "cell_type": "markdown",
   "metadata": {},
   "source": [
    "# Question 5 -- Implement repeating-key XOR"
   ]
  },
  {
   "cell_type": "code",
   "execution_count": 7,
   "metadata": {},
   "outputs": [
    {
     "name": "stdout",
     "output_type": "stream",
     "text": [
      "0b3637272a2b2e63622c2e69692a23693a2a3c6324202d623d63343c2a26226324272765272a282b2f20430a652e2c652a3124333a653e2b2027630c692b20283165286326302e27282f\n"
     ]
    }
   ],
   "source": [
    "import binascii\n",
    "text = b\"\"\"Burning 'em, if you ain't quick and nimble\n",
    "I go crazy when I hear a cymbal\"\"\"\n",
    "key = \"ICE\"\n",
    "\n",
    "def repeating_key_XOR(text,key):\n",
    "    \n",
    "    key = (key)*(int)(len(text)/3)\n",
    "    if len(text)%3!=0:\n",
    "        for i in range(len(text)%3):\n",
    "            key = key+key[i]\n",
    "            \n",
    "    key=bytes(key,encoding='utf-8')  \n",
    "    a=text\n",
    "    b=key\n",
    "    return (bytes(a^b for a,b in zip(a,b)).hex())\n",
    "    \n",
    "\n",
    "print(repeating_key_XOR(text,key))  "
   ]
  },
  {
   "cell_type": "markdown",
   "metadata": {},
   "source": [
    "###### Explaination :\n",
    "###### Here we are bringing in the input string in the form of bytes. The function repeating_key_XOR would convert the key equivalent to the length of text. We make the increase in the lenght the same way did it in the question 3. Then we simply XOR the bytes with the help of zip function."
   ]
  },
  {
   "cell_type": "markdown",
   "metadata": {},
   "source": [
    "# Question 6 -- Break repeating-key XOR"
   ]
  },
  {
   "cell_type": "code",
   "execution_count": 8,
   "metadata": {},
   "outputs": [
    {
     "name": "stdout",
     "output_type": "stream",
     "text": [
      "\n"
     ]
    }
   ],
   "source": [
    "import base64\n",
    "import codecs\n",
    "str1=base64.b64decode(\"\".join(list(open(\"input6.txt\", \"r\"))))\n",
    "str_ascii=codecs.encode(str1,'hex')\n",
    "\n",
    "def humming_distance(str1,str2):\n",
    "    n=(''.join([\"{0:08b}\".format(x) for x in str1]))\n",
    "    m=(''.join([\"{0:08b}\".format(x) for x in str2]))\n",
    "    count=0\n",
    "    for a,b in zip(n,m):\n",
    "        if a!=b:\n",
    "            count=count+1\n",
    "    return count\n",
    "\n",
    "def optimal_key_len():\n",
    "    for keysize in range(2,40):\n",
    "        avg = 0\n",
    "        for keysize1 in range(len(str1)//keysize):\n",
    "            a = str1[keysize*keysize1:keysize*keysize1+keysize]\n",
    "            b = str1[keysize*keysize1+keysize:(keysize*keysize1+keysize)+keysize]\n",
    "            norm_dist = float(humming_distance(a,b)/keysize)\n",
    "            avg = avg + norm_dist\n",
    "        d = keysize , avg/(len(str1)//keysize)\n",
    "        c.append(d)\n",
    "    return min(c, key = lambda t: t[1])\n",
    "\n",
    "humming_distance(b\"this is a test\",b\"wokka wokka!!!\")\n",
    "\n",
    "def divide_with_keysize():\n",
    "    chunks=[]\n",
    "    print()\n",
    "    for keylen in range(len(str1)//29):\n",
    "        chunks.append(str1[keylen*29:keylen*29+29])\n",
    "    return chunks\n",
    "\n",
    "chunks = divide_with_keysize()  "
   ]
  },
  {
   "cell_type": "code",
   "execution_count": 10,
   "metadata": {},
   "outputs": [
    {
     "name": "stdout",
     "output_type": "stream",
     "text": [
      "Terminator X: Bring the noise\n",
      "I'm back and I'm ringin' the bell \n",
      "A rockin' on the mike while the fly girls yell \n",
      "In ecstasy in the back of me \n",
      "Well that's my DJ Deshay cuttin' all them Z's \n",
      "Hittin' hard and the girlies goin' crazy \n",
      "Vanilla's on the mike, man I'm not lazy. \n",
      "\n",
      "I'm lettin' my drug kick in \n",
      "It controls my mouth and I begin \n",
      "To just let it flow, let my concepts go \n",
      "My posse's to the side yellin', Go Vanilla Go! \n",
      "\n",
      "Smooth 'cause that's the way I will be \n",
      "And if you don't give a damn, then \n",
      "Why you starin' at me \n",
      "So get off 'cause I control the stage \n",
      "There's no dissin' allowed \n",
      "I'm in my own phase \n",
      "The girlies sa y they love me and that is ok \n",
      "And I can dance better than any kid n' play \n",
      "\n",
      "Stage 2 -- Yea the one ya' wanna listen to \n",
      "It's off my head so let the beat play through \n",
      "So I can funk it up and make it sound good \n",
      "1-2-3 Yo -- Knock on some wood \n",
      "For good luck, I like my rhymes atrocious \n",
      "Supercalafragilisticexpialidocious \n",
      "I'm an effect and that you can bet \n",
      "I can take a fly girl and make her wet. \n",
      "\n",
      "I'm like Samson -- Samson to Delilah \n",
      "There's no denyin', You can try to hang \n",
      "But you'll keep tryin' to get my style \n",
      "Over and over, practice makes perfect \n",
      "But not if you're a loafer. \n",
      "\n",
      "You'll get nowhere, no place, no time, no girls \n",
      "Soon -- Oh my God, homebody, you probably eat \n",
      "Spaghetti with a spoon! Come on and say it! \n",
      "\n",
      "VIP. Vanilla Ice yep, yep, I'm comin' hard like a rhino \n",
      "Intoxicating so you stagger like a wino \n",
      "So punks stop trying and girl stop cryin' \n",
      "Vanilla Ice is sellin' and you people are buyin' \n",
      "'Cause why the freaks are jockin' like Crazy Glue \n",
      "Movin' and groovin' trying to sing along \n",
      "All through the ghetto groovin' this here song \n",
      "Now you're amazed by the VIP posse. \n",
      "\n",
      "Steppin' so hard like a German Nazi \n",
      "Startled by the bases hittin' ground \n",
      "There's no trippin' on mine, I'm just gettin' down \n",
      "Sparkamatic, I'm hangin' tight like a fanatic \n",
      "You trapped me once and I thought that \n",
      "You might have it \n",
      "So step down and lend me your ear \n",
      "'89 in my time! You, '90 is my year. \n",
      "\n",
      "You're weakenin' fast, YO! and I can tell it \n",
      "Your body's gettin' hot, so, so I can smell it \n",
      "So don't be mad and don't be sad \n",
      "'Cause the lyrics belong to ICE, You can call me Dad \n",
      "You're pitchin' a fit, so step back and endure \n",
      "Let the witch doctor, Ice, do the dance to cure \n",
      "So come up close and don't be square \n",
      "You wanna battle me -- Anytime, anywhere \n",
      "\n",
      "You thought that I was weak, Boy, you're dead wrong \n",
      "So come on, everybody and sing this song \n",
      "\n",
      "Say -- Play that funky music Say, go white boy, go white boy go \n",
      "play that funky music Go white boy, go white boy, go \n",
      "Lay down and boogie and play that funky music till you die. \n",
      "\n",
      "Play that funky music Come on, Come on, let me hear \n",
      "Play that funky music white boy you say it, say it \n",
      "Play that funky music A little louder now \n",
      "Play that funky music, white boy Come on, Come on, Come on \n",
      "Play that funky music \n",
      "\n"
     ]
    }
   ],
   "source": [
    "def guess_key():\n",
    "    key=''\n",
    "    for i in range(29):\n",
    "        new=bytearray()\n",
    "\n",
    "        for tup in chunks:\n",
    "            new.append(tup[i])\n",
    "        a,b=Single_byte_Xor_cipher(binascii.hexlify(new[:len(new)]).decode())    \n",
    "        key+=chr(b)\n",
    "    return (key)\n",
    "\n",
    "print (guess_key())\n",
    "\n",
    "def decrypt(key):\n",
    "    final_str=repeating_key_XOR(str1,key)\n",
    "    print(binascii.unhexlify(final_str).decode())\n",
    "    \n",
    "decrypt(guess_key())    "
   ]
  },
  {
   "cell_type": "markdown",
   "metadata": {},
   "source": [
    "###### Explaination:\n",
    "###### Here in this quesiton I took the 3rd approach as per mentioned in the instructions. First of all I read the file and find the key length using the average of the normalized humming distance. Then we divide the input string in to chunks of 29 which is the optimal key length that we guessed in the previous step. After we have a list of chunks we take transpose of the whole list so that we have 29 different strings with first character of all the strings. Then we use the single_byte_xor_cipher function the we created in the previous questions to guess the single byte of key. Doing this for 29 times would give us the appropriate string key. late we decode the whole file."
   ]
  },
  {
   "cell_type": "markdown",
   "metadata": {},
   "source": [
    "# Question 7 -- AES in ECB mode"
   ]
  },
  {
   "cell_type": "code",
   "execution_count": 149,
   "metadata": {},
   "outputs": [
    {
     "name": "stdout",
     "output_type": "stream",
     "text": [
      "I'm back and I'm ringin' the bell \n",
      "A rockin' on the mike while the fly girls yell \n",
      "In ecstasy in the back of me \n",
      "Well that's my DJ Deshay cuttin' all them Z's \n",
      "Hittin' hard and the girlies goin' crazy \n",
      "Vanilla's on the mike, man I'm not lazy. \n",
      "\n",
      "I'm lettin' my drug kick in \n",
      "It controls my mouth and I begin \n",
      "To just let it flow, let my concepts go \n",
      "My posse's to the side yellin', Go Vanilla Go! \n",
      "\n",
      "Smooth 'cause that's the way I will be \n",
      "And if you don't give a damn, then \n",
      "Why you starin' at me \n",
      "So get off 'cause I control the stage \n",
      "There's no dissin' allowed \n",
      "I'm in my own phase \n",
      "The girlies sa y they love me and that is ok \n",
      "And I can dance better than any kid n' play \n",
      "\n",
      "Stage 2 -- Yea the one ya' wanna listen to \n",
      "It's off my head so let the beat play through \n",
      "So I can funk it up and make it sound good \n",
      "1-2-3 Yo -- Knock on some wood \n",
      "For good luck, I like my rhymes atrocious \n",
      "Supercalafragilisticexpialidocious \n",
      "I'm an effect and that you can bet \n",
      "I can take a fly girl and make her wet. \n",
      "\n",
      "I'm like Samson -- Samson to Delilah \n",
      "There's no denyin', You can try to hang \n",
      "But you'll keep tryin' to get my style \n",
      "Over and over, practice makes perfect \n",
      "But not if you're a loafer. \n",
      "\n",
      "You'll get nowhere, no place, no time, no girls \n",
      "Soon -- Oh my God, homebody, you probably eat \n",
      "Spaghetti with a spoon! Come on and say it! \n",
      "\n",
      "VIP. Vanilla Ice yep, yep, I'm comin' hard like a rhino \n",
      "Intoxicating so you stagger like a wino \n",
      "So punks stop trying and girl stop cryin' \n",
      "Vanilla Ice is sellin' and you people are buyin' \n",
      "'Cause why the freaks are jockin' like Crazy Glue \n",
      "Movin' and groovin' trying to sing along \n",
      "All through the ghetto groovin' this here song \n",
      "Now you're amazed by the VIP posse. \n",
      "\n",
      "Steppin' so hard like a German Nazi \n",
      "Startled by the bases hittin' ground \n",
      "There's no trippin' on mine, I'm just gettin' down \n",
      "Sparkamatic, I'm hangin' tight like a fanatic \n",
      "You trapped me once and I thought that \n",
      "You might have it \n",
      "So step down and lend me your ear \n",
      "'89 in my time! You, '90 is my year. \n",
      "\n",
      "You're weakenin' fast, YO! and I can tell it \n",
      "Your body's gettin' hot, so, so I can smell it \n",
      "So don't be mad and don't be sad \n",
      "'Cause the lyrics belong to ICE, You can call me Dad \n",
      "You're pitchin' a fit, so step back and endure \n",
      "Let the witch doctor, Ice, do the dance to cure \n",
      "So come up close and don't be square \n",
      "You wanna battle me -- Anytime, anywhere \n",
      "\n",
      "You thought that I was weak, Boy, you're dead wrong \n",
      "So come on, everybody and sing this song \n",
      "\n",
      "Say -- Play that funky music Say, go white boy, go white boy go \n",
      "play that funky music Go white boy, go white boy, go \n",
      "Lay down and boogie and play that funky music till you die. \n",
      "\n",
      "Play that funky music Come on, Come on, let me hear \n",
      "Play that funky music white boy you say it, say it \n",
      "Play that funky music A little louder now \n",
      "Play that funky music, white boy Come on, Come on, Come on \n",
      "Play that funky music \n",
      "\n"
     ]
    }
   ],
   "source": [
    "from base64 import b64decode\n",
    "from Crypto.Cipher import AES\n",
    "\n",
    "BLOCK_SIZE = 16  # Bytes\n",
    "pad = lambda s: s + (BLOCK_SIZE - len(s) % BLOCK_SIZE) * \\\n",
    "                chr(BLOCK_SIZE - len(s) % BLOCK_SIZE)\n",
    "unpad = lambda s: s[:-ord(s[len(s) - 1:])]\n",
    "\n",
    "def change(st):\n",
    "    st = st + (BLOCK_SIZE - len(st) % BLOCK_SIZE) * bytes(chr(BLOCK_SIZE - len(st) % BLOCK_SIZE),encoding = \"utf-8\")\n",
    "    return st    \n",
    "    \n",
    "def decrypt(enc):\n",
    "        \n",
    "        enc = b64decode(enc)\n",
    "        #enc = change(enc)\n",
    "        #print (enc)\n",
    "        cipher = AES.new(key, AES.MODE_ECB)\n",
    "        return unpad(cipher.decrypt(enc)).decode('utf8',\"ignore\")\n",
    "\n",
    "def get_file(file):\n",
    "    st=\"\"\n",
    "    for line in open(file):\n",
    "        line = line.strip()\n",
    "        st = st + line\n",
    "    return st\n",
    "\n",
    "key = \"YELLOW SUBMARINE\"  \n",
    "print(decrypt(get_file(\"input7.txt\")))"
   ]
  },
  {
   "cell_type": "markdown",
   "metadata": {},
   "source": [
    "###### Explaination:\n",
    "###### Here in this question we need to implement the AES in ECB mode which means the cipher goes through single step of encryption. Our key YELLOW SUBMARINE is a 16 byte string but we need to pad in the input cipher. We created pad and unpad functions to do the above mentioned work. Then we implement AES using new() functions mentioning ECB as mode. We simply decrypt the file from base64 and convert it into ascii before printing."
   ]
  },
  {
   "cell_type": "markdown",
   "metadata": {},
   "source": [
    "# Question 8 -- Detect AES in ECB mode"
   ]
  },
  {
   "cell_type": "code",
   "execution_count": 12,
   "metadata": {},
   "outputs": [
    {
     "name": "stdout",
     "output_type": "stream",
     "text": [
      "The key with AES is :d880619740a8a19b7840a8a31c810a3d08649af70dc06f4fd5d2d69c744cd283e2dd052f6b641dbf9d11b0348542bb5708649af70dc06f4fd5d2d69c744cd2839475c9dfdbc1d46597949d9c7e82bf5a08649af70dc06f4fd5d2d69c744cd28397a93eab8d6aecd566489154789a6b0308649af70dc06f4fd5d2d69c744cd283d403180c98c8f6db1f2a3f9c4040deb0ab51b29933f2c123c58386b06fba186a\n"
     ]
    }
   ],
   "source": [
    "from collections import defaultdict\n",
    "\n",
    "max_reps = 0\n",
    "cipher = None\n",
    "\n",
    "def substring(buffer, block_length=16):\n",
    "    count = defaultdict(lambda: -1)\n",
    "    for i in range(0, len(buffer), block_length):\n",
    "        block = bytes(buffer[i:i + block_length])\n",
    "        count[block] += 1\n",
    "    return sum(count.values())\n",
    "\n",
    "\n",
    "def detect_aes(max_reps = 0,cipher = None):\n",
    "    for ciphertext in list(open(\"input8.txt\", \"r\")):\n",
    "        ciphertext = ciphertext.rstrip()\n",
    "        count = substring(bytearray(ciphertext,'utf-8'))\n",
    "        if count > max_reps:\n",
    "            max_reps = count\n",
    "            cipher = ciphertext\n",
    "    print(\"The key with AES is :\"+cipher)\n",
    " \n",
    "detect_aes()"
   ]
  },
  {
   "cell_type": "markdown",
   "metadata": {},
   "source": [
    "###### Explaination:\n",
    "###### In this question we simply make use of dictionary implementation in python to recognize the longest substing in a cipher. By adding the key into the dictionary, it would save the count of times the string is repeated. Here again we mention the block_size as 16 as the total width of a cipher with aes would be in the blocks of length 16. The string from the file is read in the form of bytarray to be saved in the dictionary."
   ]
  },
  {
   "cell_type": "markdown",
   "metadata": {},
   "source": [
    "# Question 9 -- Implement PKCS#7 padding"
   ]
  },
  {
   "cell_type": "code",
   "execution_count": 537,
   "metadata": {},
   "outputs": [
    {
     "data": {
      "text/plain": [
       "'YELLOW SUBMARINE\\x04\\x04\\x04\\x04'"
      ]
     },
     "execution_count": 537,
     "metadata": {},
     "output_type": "execute_result"
    }
   ],
   "source": [
    "BLOCK_SIZE = 20\n",
    "pad = lambda s: s + (BLOCK_SIZE - len(s) % BLOCK_SIZE) * \\\n",
    "                chr(BLOCK_SIZE - len(s) % BLOCK_SIZE)\n",
    "    \n",
    "pad(\"YELLOW SUBMARINE\")    "
   ]
  },
  {
   "cell_type": "markdown",
   "metadata": {},
   "source": [
    "###### Explaination:\n",
    "###### We already implemented this functionality for previous questions where we were required to pad the string in 16 bytes length. We simply add the chr of the number of characters required to complete the block."
   ]
  }
 ],
 "metadata": {
  "kernelspec": {
   "display_name": "Python 3",
   "language": "python",
   "name": "python3"
  },
  "language_info": {
   "codemirror_mode": {
    "name": "ipython",
    "version": 3
   },
   "file_extension": ".py",
   "mimetype": "text/x-python",
   "name": "python",
   "nbconvert_exporter": "python",
   "pygments_lexer": "ipython3",
   "version": "3.6.3"
  }
 },
 "nbformat": 4,
 "nbformat_minor": 2
}
